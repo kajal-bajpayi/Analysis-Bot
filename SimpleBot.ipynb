{
 "cells": [
  {
   "cell_type": "markdown",
   "metadata": {},
   "source": [
    "# BCGX_Generative_AI_Task_2"
   ]
  },
  {
   "cell_type": "markdown",
   "metadata": {},
   "source": [
    "## Python Libraries"
   ]
  },
  {
   "cell_type": "code",
   "execution_count": null,
   "metadata": {
    "_cell_guid": "b1076dfc-b9ad-4769-8c92-a6c4dae69d19",
    "_uuid": "8f2839f25d086af736a60e9eeb907d3b93b6e0e5",
    "execution": {
     "iopub.execute_input": "2024-03-28T20:44:08.408274Z",
     "iopub.status.busy": "2024-03-28T20:44:08.407819Z",
     "iopub.status.idle": "2024-03-28T20:44:09.732310Z",
     "shell.execute_reply": "2024-03-28T20:44:09.730832Z",
     "shell.execute_reply.started": "2024-03-28T20:44:08.408237Z"
    },
    "trusted": true
   },
   "outputs": [],
   "source": [
    "import numpy as np # linear algebra\n",
    "import pandas as pd # data processing, CSV file I/O (e.g. pd.read_csv)\n"
   ]
  },
  {
   "cell_type": "code",
   "execution_count": null,
   "metadata": {
    "execution": {
     "iopub.execute_input": "2024-03-28T20:46:04.473073Z",
     "iopub.status.busy": "2024-03-28T20:46:04.471978Z",
     "iopub.status.idle": "2024-03-28T20:46:04.481839Z",
     "shell.execute_reply": "2024-03-28T20:46:04.480810Z",
     "shell.execute_reply.started": "2024-03-28T20:46:04.473026Z"
    },
    "trusted": true
   },
   "outputs": [],
   "source": [
    "final_report = pd.read_csv('StockAnalysi/final_data_report.csv')\n"
   ]
  },
  {
   "cell_type": "code",
   "execution_count": null,
   "metadata": {
    "execution": {
     "iopub.execute_input": "2024-03-28T20:46:09.367063Z",
     "iopub.status.busy": "2024-03-28T20:46:09.366588Z",
     "iopub.status.idle": "2024-03-28T20:46:09.375052Z",
     "shell.execute_reply": "2024-03-28T20:46:09.373824Z",
     "shell.execute_reply.started": "2024-03-28T20:46:09.367026Z"
    },
    "trusted": true
   },
   "outputs": [],
   "source": [
    "summary_report = pd.read_csv('StockAnalysi/Summary_final_report.csv')"
   ]
  },
  {
   "cell_type": "markdown",
   "metadata": {},
   "source": [
    "## Chatbot"
   ]
  },
  {
   "cell_type": "code",
   "execution_count": 12,
   "metadata": {
    "execution": {
     "iopub.execute_input": "2024-03-28T20:50:41.456597Z",
     "iopub.status.busy": "2024-03-28T20:50:41.456067Z",
     "iopub.status.idle": "2024-03-28T20:50:41.478379Z",
     "shell.execute_reply": "2024-03-28T20:50:41.477372Z",
     "shell.execute_reply.started": "2024-03-28T20:50:41.456560Z"
    },
    "trusted": true
   },
   "outputs": [],
   "source": [
    " def financial_chatbot():\n",
    "    print(\"\\nPlease enter your query\")\n",
    "    user_query = input()\n",
    "    \n",
    "    if user_query == \"What is the total revenue?\":\n",
    "        revenue = final_report[(final_report['Year'] == fiscal_year) & (final_report['Company'] == company_input)]['Total Revenue'].values[0]\n",
    "        return f\"The Total Revenue for {company_input} for fiscal year {fiscal_year} is $ {revenue}\"\n",
    "    \n",
    "    elif user_query == \"What is the Net Income?\":\n",
    "        net_income  = final_report[(final_report['Year'] == fiscal_year) & (final_report['Company'] == company_input)]['Net Income'].values[0]\n",
    "        return f\"The Net Income for {company_input} for fiscal year {fiscal_year} is $ {net_income}\"\n",
    "    \n",
    "    elif user_query == \"What is the sum of total assets?\":\n",
    "        total_assets  = final_report[(final_report['Year'] == fiscal_year) & (final_report['Company'] == company_input)]['Total Assets'].values[0]\n",
    "        return f\"The sum of Total Assets for {company_input} for fiscal year {fiscal_year} is $ {total_assets}\"\n",
    "    \n",
    "    elif user_query == \"What is the sum of total liabilities?\":\n",
    "        total_liabilities  = final_report[(final_report['Year'] == fiscal_year) & (final_report['Company'] == company_input)]['Total Liabilities'].values[0]\n",
    "        return f\"The sum of Total Liabilities for {company_input} for fiscal year {fiscal_year} is $ {total_liabilities}\"\n",
    "    \n",
    "    elif user_query == \"What is cash flow from operating activities?\":\n",
    "        cash_ops = final_report[(final_report['Year'] == fiscal_year) & (final_report['Company'] == company_input)]['Cash Flow from Operating Activities'].values[0]\n",
    "        return f\"The Cash Flow from Operating Activities for {company_input} for fiscal year {fiscal_year} is $ {cash_ops}\"\n",
    "    \n",
    "    elif user_query == \"What is the revenue growth(%) ?\":\n",
    "        revenue_growth = final_report[(final_report['Year'] == fiscal_year) & (final_report['Company'] == company_input)]['Revenue Growth (%)'].values[0].round(4)\n",
    "        return f\"The Revenue Growth(%) for {company_input} for fiscal year {fiscal_year} is {revenue_growth}(%)\"\n",
    "    \n",
    "    elif user_query == \"What is the net income growth(%) ?\":\n",
    "        net_income_growth = final_report[(final_report['Year'] == fiscal_year) & (final_report['Company'] == company_input)]['Net Income Growth (%)'].values[0].round(4)\n",
    "        return f\"The Net Income Growth(%) for {company_input} for fiscal year {fiscal_year} is {net_income_growth}(%)\"\n",
    "    \n",
    "    elif user_query == \"What is the assets growth(%) ?\":\n",
    "        assets_growth = final_report[(final_report['Year'] == fiscal_year) & (final_report['Company'] == company_input)]['Assets Growth (%)'].values[0].round(4)\n",
    "        return f\"The Assets Growth(%) for {company_input} for fiscal year {fiscal_year} is {assets_growth}(%)\"\n",
    "    \n",
    "    elif user_query == \"What is the liabilities growth(%) ?\":\n",
    "        liabilities_growth = final_report[(final_report['Year'] == fiscal_year) & (final_report['Company'] == company_input)]['Liabilities Growth (%)'].values[0].round(4)\n",
    "        return f\"The Liabilities Growth(%) for {company_input} for fiscal year {fiscal_year} is {liabilities_growth}(%)\"\n",
    "    \n",
    "    elif user_query == \"What is the cash flow from operations growth(%) ?\":\n",
    "        cash_ops_growth = final_report[(final_report['Year'] == fiscal_year) & (final_report['Company'] == company_input)]['Cash Flow from Operations Growth(%)'].values[0].round(4)\n",
    "        return f\"The Cash Flow from Operations Growth(%) for {company_input} for fiscal year {fiscal_year} is {cash_ops_growth}(%)\"\n",
    "    \n",
    "    elif user_query == \"What is the year by year average revenue growth rate(%)?\":\n",
    "        year_avg_revenue_growth = summary_report[(summary_report['Company'] == company_input)]['Revenue Growth (%)'].values[0].round(4)\n",
    "        return f\"The Year By Year Average Revenue Growth Rate(%) from 2021 to 2023 for {company_input} is {year_avg_revenue_growth}(%)\"\n",
    "     \n",
    "    elif user_query == \"What is the year by year average net income growth rate(%)?\":\n",
    "        year_avg_net_income_growth = summary_report[(summary_report['Company'] == company_input)]['Net Income Growth (%)'].values[0].round(4)\n",
    "        return f\"The Year By Year Net Income Revenue Growth Rate(%) from 2021 to 2023 for {company_input} is {year_avg_net_income_growth}(%)\"\n",
    "    \n",
    "    elif user_query == \"What is the year by year average assets growth rate(%)?\":\n",
    "        year_avg_assets_growth = summary_report[(summary_report['Company'] == company_input)]['Assets Growth (%)'].values[0].round(4)\n",
    "        return f\"The Year By Year Average Assets Growth Rate(%) from 2021 to 2023 for {company_input} is {year_avg_assets_growth}(%)\"\n",
    "    \n",
    "    elif user_query == \"What is the year by year average liabilities growth rate(%)?\":\n",
    "        year_avg_liabilities_growth = summary_report[(summary_report['Company'] == company_input)]['Liabilities Growth (%)'].values[0].round(4)\n",
    "        return f\"The Year By Year Average Liabilities Growth Rate(%) from 2021 to 2023 for {company_input} is {year_avg_liabilities_growth}(%)\"\n",
    "    \n",
    "    elif user_query == \"What is the year by year average cash flow from operations growth rate(%)?\":\n",
    "        year_avg_cash_ops_growth = summary_report[(summary_report['Company'] == company_input)]['Cash Flow from Operations Growth(%)'].values[0].round(4)\n",
    "        return f\"The Year By Year Average Cash Flow from Operations Growth Rate(%) from 2021 to 2023 for {company_input} is {year_avg_cash_ops_growth}(%)\" \n",
    "    \n",
    "    else:\n",
    "        return \"Sorry, I cannot only provide information on the requested query.\""
   ]
  },
  {
   "cell_type": "markdown",
   "metadata": {},
   "source": [
    "## Test Chatbot"
   ]
  },
  {
   "cell_type": "code",
   "execution_count": 17,
   "metadata": {
    "execution": {
     "iopub.execute_input": "2024-03-28T20:54:28.964474Z",
     "iopub.status.busy": "2024-03-28T20:54:28.963289Z",
     "iopub.status.idle": "2024-03-28T20:55:18.368195Z",
     "shell.execute_reply": "2024-03-28T20:55:18.367036Z",
     "shell.execute_reply.started": "2024-03-28T20:54:28.964431Z"
    },
    "trusted": true
   },
   "outputs": [
    {
     "name": "stdout",
     "output_type": "stream",
     "text": [
      "----------------------------------------------------------------------------\n"
     ]
    },
    {
     "name": "stdout",
     "output_type": "stream",
     "text": [
      "\n",
      "Enter Hi to start the chatbot session; type 'exit' to quit):  hi\n"
     ]
    },
    {
     "name": "stdout",
     "output_type": "stream",
     "text": [
      "\n",
      "Hello! Welcome to AI Driven Financial Chatbot!!!\n",
      "\n",
      "I can help you with your financial queries\n",
      "Please select the company name from below: -\n",
      "\n",
      "1.Microsoft \n",
      "2.Tesla \n",
      "3.Apple\n"
     ]
    },
    {
     "name": "stdout",
     "output_type": "stream",
     "text": [
      "Enter company name :  tesla\n"
     ]
    },
    {
     "name": "stdout",
     "output_type": "stream",
     "text": [
      "\n",
      "The data for the fiscal year 2023, 2022, and 2021 is currently available\n"
     ]
    },
    {
     "name": "stdout",
     "output_type": "stream",
     "text": [
      "The fiscal year for the selected company :  2022\n"
     ]
    },
    {
     "name": "stdout",
     "output_type": "stream",
     "text": [
      "\n",
      "Please enter your query\n"
     ]
    },
    {
     "name": "stdout",
     "output_type": "stream",
     "text": [
      " What is the revenue growth(%) ?\n"
     ]
    },
    {
     "name": "stdout",
     "output_type": "stream",
     "text": [
      "The Revenue Growth(%) for Tesla for fiscal year 2022 is -15.8216(%)\n",
      "----------------------------------------------------------------------------\n"
     ]
    },
    {
     "name": "stdout",
     "output_type": "stream",
     "text": [
      "\n",
      "Enter Hi to start the chatbot session; type 'exit' to quit):  exit\n"
     ]
    }
   ],
   "source": [
    "while True:\n",
    "    print(\"----------------------------------------------------------------------------\")\n",
    "    user_input = input(\"\\nEnter Hi to start the chatbot session; type 'exit' to quit): \")\n",
    "    if user_input.lower() == \"exit\":\n",
    "        break\n",
    "    elif user_input.lower() == \"hi\":\n",
    "        print(\"\\nHello! Welcome to AI Driven Financial Chatbot!!!\")\n",
    "        print(\"\\nI can help you with your financial queries\")\n",
    "        print(\"Please select the company name from below: -\")\n",
    "        print(\"\\n1.Microsoft \\n2.Tesla \\n3.Apple\")\n",
    "        company_input = input(\"Enter company name : \").capitalize()\n",
    "        if company_input not in ['Apple', 'Microsoft', 'Tesla']:\n",
    "            print(\"Invalid Company Name. Please check and enter correct company name by starting the chatbot session again\")\n",
    "            break\n",
    "        else:\n",
    "            print(\"\\nThe data for the fiscal year 2023, 2022, and 2021 is currently available\")\n",
    "            fiscal_year = int(input(\"The fiscal year for the selected company : \"))\n",
    "            if fiscal_year not in [2023, 2022, 2021]:\n",
    "                print(\"Please enter a valid fiscal year by starting the chatbot session again\")\n",
    "                break\n",
    "    else:\n",
    "        print(\"Enter 'Hi' Properly!!!!! by starting the chatbot session again\")\n",
    "        break\n",
    "            \n",
    "        \n",
    "    response = financial_chatbot()\n",
    "    print(response)"
   ]
  },
  {
   "cell_type": "code",
   "execution_count": null,
   "metadata": {},
   "outputs": [],
   "source": []
  }
 ],
 "metadata": {
  "kernelspec": {
   "display_name": "Python 3",
   "language": "python",
   "name": "python3"
  },
  "language_info": {
   "codemirror_mode": {
    "name": "ipython",
    "version": 3
   },
   "file_extension": ".py",
   "mimetype": "text/x-python",
   "name": "python",
   "nbconvert_exporter": "python",
   "pygments_lexer": "ipython3",
   "version": "3.10.13"
  }
 },
 "nbformat": 4,
 "nbformat_minor": 4
}
